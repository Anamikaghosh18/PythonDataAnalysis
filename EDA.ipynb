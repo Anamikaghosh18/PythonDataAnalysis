{
 "cells": [
  {
   "cell_type": "markdown",
   "metadata": {},
   "source": [
    "# State/UT-wise Details Of Assembly Segment of (PC- Parliamentary Constituency)\n",
    "- This dataset contains detailed electoral information at both the Parliamentary Constituency (PC) and Assembly Constituency (AC) levels across various states and union territories in India. It includes data on total electors, valid votes, NOTA votes, candidate details, and party-wise performance, making it useful for analyzing voter behavior, party dominance, and electoral trends."
   ]
  },
  {
   "cell_type": "markdown",
   "metadata": {},
   "source": [
    "# Objectives - \n",
    "1. Analyze Voter Turnout – Examine the participation rate across different states and constituencies.\n",
    "\n",
    "2. Study Party-wise Performance – Identify the top-performing parties and their vote share.\n",
    "\n",
    "3. Evaluate Candidate Performance – Determine winning candidates and their victory margins.\n",
    "\n",
    "4. Assess NOTA Impact – Understand the significance of \"None of the Above\" (NOTA) votes.\n",
    "\n",
    "5. Analyze Vote Share Distribution – Examine how votes were distributed among different candidates and parties."
   ]
  },
  {
   "cell_type": "code",
   "execution_count": 6,
   "metadata": {},
   "outputs": [],
   "source": [
    "import numpy as np\n",
    "import pandas as pd\n",
    "import matplotlib.pyplot as plt\n",
    "import seaborn as sns"
   ]
  },
  {
   "cell_type": "code",
   "execution_count": 3,
   "metadata": {},
   "outputs": [],
   "source": [
    "df = pd.read_csv(\"C:\\\\Users\\\\ganam\\\\Downloads\\\\34_Details_Of_Assembly_Segment_Of_PC.csv\")"
   ]
  },
  {
   "cell_type": "markdown",
   "metadata": {},
   "source": [
    "# Data Cleaning and Preprocessing"
   ]
  },
  {
   "cell_type": "markdown",
   "metadata": {},
   "source": [
    "- this is very important to know the information about the dataset -> about the columns "
   ]
  },
  {
   "cell_type": "code",
   "execution_count": null,
   "metadata": {},
   "outputs": [
    {
     "data": {
      "text/html": [
       "<div>\n",
       "<style scoped>\n",
       "    .dataframe tbody tr th:only-of-type {\n",
       "        vertical-align: middle;\n",
       "    }\n",
       "\n",
       "    .dataframe tbody tr th {\n",
       "        vertical-align: top;\n",
       "    }\n",
       "\n",
       "    .dataframe thead th {\n",
       "        text-align: right;\n",
       "    }\n",
       "</style>\n",
       "<table border=\"1\" class=\"dataframe\">\n",
       "  <thead>\n",
       "    <tr style=\"text-align: right;\">\n",
       "      <th></th>\n",
       "      <th>State/Ut Name</th>\n",
       "      <th>Pc No</th>\n",
       "      <th>PC Name</th>\n",
       "      <th>Total Electors In PC</th>\n",
       "      <th>AC No</th>\n",
       "      <th>AC Name</th>\n",
       "      <th>Total Electors In AC</th>\n",
       "      <th>Total Valid Votes In State</th>\n",
       "      <th>Nota Votes Evm In AC</th>\n",
       "      <th>Candidate Name</th>\n",
       "      <th>Party</th>\n",
       "      <th>Votes Secured Evm</th>\n",
       "    </tr>\n",
       "  </thead>\n",
       "  <tbody>\n",
       "    <tr>\n",
       "      <th>0</th>\n",
       "      <td>Andhra Pradesh</td>\n",
       "      <td>1</td>\n",
       "      <td>Araku</td>\n",
       "      <td>1557153</td>\n",
       "      <td>10</td>\n",
       "      <td>Palakonda</td>\n",
       "      <td>195673</td>\n",
       "      <td>33327256</td>\n",
       "      <td>4441</td>\n",
       "      <td>APPALANARASA PACHIPENTA</td>\n",
       "      <td>CPI(M)</td>\n",
       "      <td>3873</td>\n",
       "    </tr>\n",
       "    <tr>\n",
       "      <th>1</th>\n",
       "      <td>Andhra Pradesh</td>\n",
       "      <td>1</td>\n",
       "      <td>Araku</td>\n",
       "      <td>1557153</td>\n",
       "      <td>10</td>\n",
       "      <td>Palakonda</td>\n",
       "      <td>195673</td>\n",
       "      <td>33327256</td>\n",
       "      <td>4441</td>\n",
       "      <td>AVASHYA LAHARI . VARAM</td>\n",
       "      <td>BSP</td>\n",
       "      <td>1155</td>\n",
       "    </tr>\n",
       "    <tr>\n",
       "      <th>2</th>\n",
       "      <td>Andhra Pradesh</td>\n",
       "      <td>1</td>\n",
       "      <td>Araku</td>\n",
       "      <td>1557153</td>\n",
       "      <td>10</td>\n",
       "      <td>Palakonda</td>\n",
       "      <td>195673</td>\n",
       "      <td>33327256</td>\n",
       "      <td>4441</td>\n",
       "      <td>KOTHAPALLI GEETHA</td>\n",
       "      <td>BJP</td>\n",
       "      <td>66695</td>\n",
       "    </tr>\n",
       "    <tr>\n",
       "      <th>3</th>\n",
       "      <td>Andhra Pradesh</td>\n",
       "      <td>1</td>\n",
       "      <td>Araku</td>\n",
       "      <td>1557153</td>\n",
       "      <td>10</td>\n",
       "      <td>Palakonda</td>\n",
       "      <td>195673</td>\n",
       "      <td>33327256</td>\n",
       "      <td>4441</td>\n",
       "      <td>GUMMA THANUJA RANI</td>\n",
       "      <td>YSRCP</td>\n",
       "      <td>63302</td>\n",
       "    </tr>\n",
       "    <tr>\n",
       "      <th>4</th>\n",
       "      <td>Andhra Pradesh</td>\n",
       "      <td>1</td>\n",
       "      <td>Araku</td>\n",
       "      <td>1557153</td>\n",
       "      <td>10</td>\n",
       "      <td>Palakonda</td>\n",
       "      <td>195673</td>\n",
       "      <td>33327256</td>\n",
       "      <td>4441</td>\n",
       "      <td>CHANTI BADNAINA</td>\n",
       "      <td>JBNP</td>\n",
       "      <td>1977</td>\n",
       "    </tr>\n",
       "  </tbody>\n",
       "</table>\n",
       "</div>"
      ],
      "text/plain": [
       "    State/Ut Name  Pc No PC Name  Total Electors In PC  AC No    AC Name  \\\n",
       "0  Andhra Pradesh      1   Araku               1557153     10  Palakonda   \n",
       "1  Andhra Pradesh      1   Araku               1557153     10  Palakonda   \n",
       "2  Andhra Pradesh      1   Araku               1557153     10  Palakonda   \n",
       "3  Andhra Pradesh      1   Araku               1557153     10  Palakonda   \n",
       "4  Andhra Pradesh      1   Araku               1557153     10  Palakonda   \n",
       "\n",
       "   Total Electors In AC  Total Valid Votes In State  Nota Votes Evm In AC  \\\n",
       "0                195673                    33327256                  4441   \n",
       "1                195673                    33327256                  4441   \n",
       "2                195673                    33327256                  4441   \n",
       "3                195673                    33327256                  4441   \n",
       "4                195673                    33327256                  4441   \n",
       "\n",
       "            Candidate Name   Party  Votes Secured Evm  \n",
       "0  APPALANARASA PACHIPENTA  CPI(M)               3873  \n",
       "1   AVASHYA LAHARI . VARAM     BSP               1155  \n",
       "2        KOTHAPALLI GEETHA     BJP              66695  \n",
       "3       GUMMA THANUJA RANI   YSRCP              63302  \n",
       "4          CHANTI BADNAINA    JBNP               1977  "
      ]
     },
     "execution_count": 5,
     "metadata": {},
     "output_type": "execute_result"
    }
   ],
   "source": [
    "# this will show the first 5 rows of the dataframe\n",
    "df.head(5)"
   ]
  },
  {
   "cell_type": "code",
   "execution_count": null,
   "metadata": {},
   "outputs": [
    {
     "name": "stdout",
     "output_type": "stream",
     "text": [
      "<class 'pandas.core.frame.DataFrame'>\n",
      "RangeIndex: 61725 entries, 0 to 61724\n",
      "Data columns (total 12 columns):\n",
      " #   Column                      Non-Null Count  Dtype \n",
      "---  ------                      --------------  ----- \n",
      " 0   State/Ut Name               61725 non-null  object\n",
      " 1   Pc No                       61725 non-null  int64 \n",
      " 2   PC Name                     61725 non-null  object\n",
      " 3   Total Electors In PC        61725 non-null  int64 \n",
      " 4   AC No                       61725 non-null  int64 \n",
      " 5   AC Name                     61725 non-null  object\n",
      " 6   Total Electors In AC        61725 non-null  int64 \n",
      " 7   Total Valid Votes In State  61725 non-null  int64 \n",
      " 8   Nota Votes Evm In AC        61725 non-null  int64 \n",
      " 9   Candidate Name              61725 non-null  object\n",
      " 10  Party                       61725 non-null  object\n",
      " 11  Votes Secured Evm           61725 non-null  int64 \n",
      "dtypes: int64(7), object(5)\n",
      "memory usage: 5.7+ MB\n"
     ]
    }
   ],
   "source": [
    "# to know the information about the columns and the data types\n",
    "df.info()"
   ]
  },
  {
   "cell_type": "code",
   "execution_count": 7,
   "metadata": {},
   "outputs": [
    {
     "data": {
      "text/plain": [
       "State/Ut Name                 0\n",
       "Pc No                         0\n",
       "PC Name                       0\n",
       "Total Electors In PC          0\n",
       "AC No                         0\n",
       "AC Name                       0\n",
       "Total Electors In AC          0\n",
       "Total Valid Votes In State    0\n",
       "Nota Votes Evm In AC          0\n",
       "Candidate Name                0\n",
       "Party                         0\n",
       "Votes Secured Evm             0\n",
       "dtype: int64"
      ]
     },
     "execution_count": 7,
     "metadata": {},
     "output_type": "execute_result"
    }
   ],
   "source": [
    "# it is important to know that there is any missing values in the dataset or not \n",
    "df.isnull().sum()"
   ]
  },
  {
   "cell_type": "markdown",
   "metadata": {},
   "source": [
    "- From above we can see there are no missing values in the dataset "
   ]
  },
  {
   "cell_type": "markdown",
   "metadata": {},
   "source": []
  }
 ],
 "metadata": {
  "kernelspec": {
   "display_name": "Python 3",
   "language": "python",
   "name": "python3"
  },
  "language_info": {
   "codemirror_mode": {
    "name": "ipython",
    "version": 3
   },
   "file_extension": ".py",
   "mimetype": "text/x-python",
   "name": "python",
   "nbconvert_exporter": "python",
   "pygments_lexer": "ipython3",
   "version": "3.13.2"
  }
 },
 "nbformat": 4,
 "nbformat_minor": 2
}
